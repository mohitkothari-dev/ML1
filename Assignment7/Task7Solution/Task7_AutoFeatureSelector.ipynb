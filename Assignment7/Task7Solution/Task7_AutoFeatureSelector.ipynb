{
  "cells": [
    {
      "cell_type": "markdown",
      "metadata": {
        "id": "TMbuqPda7wfJ"
      },
      "source": [
        "# Task 7: AutoFeatureSelector Tool\n",
        "## This task is to test your understanding of various Feature Selection methods outlined in the lecture and the ability to apply this knowledge in a real-world dataset to select best features and also to build an automated feature selection tool as your toolkit\n",
        "\n",
        "### Use your knowledge of different feature selector methods to build an Automatic Feature Selection tool\n",
        "- Pearson Correlation\n",
        "- Chi-Square\n",
        "- RFE\n",
        "- Embedded\n",
        "- Tree (Random Forest)\n",
        "- Tree (Light GBM)"
      ]
    },
    {
      "cell_type": "markdown",
      "metadata": {
        "id": "0QTIg2h87wfL"
      },
      "source": [
        "### Dataset: FIFA 19 Player Skills\n",
        "#### Attributes: FIFA 2019 players attributes like Age, Nationality, Overall, Potential, Club, Value, Wage, Preferred Foot, International Reputation, Weak Foot, Skill Moves, Work Rate, Position, Jersey Number, Joined, Loaned From, Contract Valid Until, Height, Weight, LS, ST, RS, LW, LF, CF, RF, RW, LAM, CAM, RAM, LM, LCM, CM, RCM, RM, LWB, LDM, CDM, RDM, RWB, LB, LCB, CB, RCB, RB, Crossing, Finishing, Heading, Accuracy, ShortPassing, Volleys, Dribbling, Curve, FKAccuracy, LongPassing, BallControl, Acceleration, SprintSpeed, Agility, Reactions, Balance, ShotPower, Jumping, Stamina, Strength, LongShots, Aggression, Interceptions, Positioning, Vision, Penalties, Composure, Marking, StandingTackle, SlidingTackle, GKDiving, GKHandling, GKKicking, GKPositioning, GKReflexes, and Release Clause."
      ]
    },
    {
      "cell_type": "code",
      "execution_count": 1,
      "metadata": {
        "id": "WOGID4tD7wfM"
      },
      "outputs": [],
      "source": [
        "%matplotlib inline\n",
        "import numpy as np\n",
        "import pandas as pd \n",
        "import seaborn as sns\n",
        "import matplotlib.pyplot as plt\n",
        "import scipy.stats as ss\n",
        "from collections import Counter\n",
        "import math\n",
        "from scipy import stats"
      ]
    },
    {
      "cell_type": "code",
      "execution_count": 2,
      "metadata": {
        "id": "wtR22Kh67wfN"
      },
      "outputs": [],
      "source": [
        "player_df = pd.read_csv(\"fifa19.csv\")"
      ]
    },
    {
      "cell_type": "code",
      "execution_count": 3,
      "metadata": {
        "id": "AThSmwJw7wfN"
      },
      "outputs": [],
      "source": [
        "numcols = ['Overall', 'Crossing','Finishing',  'ShortPassing',  'Dribbling','LongPassing', 'BallControl', 'Acceleration','SprintSpeed', 'Agility',  'Stamina','Volleys','FKAccuracy','Reactions','Balance','ShotPower','Strength','LongShots','Aggression','Interceptions']\n",
        "catcols = ['Preferred Foot','Position','Body Type','Nationality','Weak Foot']"
      ]
    },
    {
      "cell_type": "code",
      "execution_count": 4,
      "metadata": {
        "id": "rWv90ooE7wfO"
      },
      "outputs": [],
      "source": [
        "player_df = player_df[numcols+catcols]"
      ]
    },
    {
      "cell_type": "code",
      "execution_count": 5,
      "metadata": {
        "id": "qcT-H1un7wfO"
      },
      "outputs": [],
      "source": [
        "traindf = pd.concat([player_df[numcols], pd.get_dummies(player_df[catcols])],axis=1)\n",
        "features = traindf.columns\n",
        "\n",
        "traindf = traindf.dropna()"
      ]
    },
    {
      "cell_type": "code",
      "execution_count": 6,
      "metadata": {
        "id": "qLya2T_i7wfO"
      },
      "outputs": [],
      "source": [
        "traindf = pd.DataFrame(traindf,columns=features)"
      ]
    },
    {
      "cell_type": "code",
      "execution_count": 7,
      "metadata": {
        "id": "soGzjfKw7wfO"
      },
      "outputs": [],
      "source": [
        "y = traindf['Overall']>=87\n",
        "X = traindf.copy()\n",
        "del X['Overall']"
      ]
    },
    {
      "cell_type": "code",
      "execution_count": 8,
      "metadata": {
        "colab": {
          "base_uri": "https://localhost:8080/",
          "height": 317
        },
        "id": "B3Dh509u7wfP",
        "outputId": "09eb4bbf-4cb2-43ad-a7ea-00a4093dfc39"
      },
      "outputs": [
        {
          "output_type": "execute_result",
          "data": {
            "text/plain": [
              "   Crossing  Finishing  ShortPassing  Dribbling  LongPassing  BallControl  \\\n",
              "0      84.0       95.0          90.0       97.0         87.0         96.0   \n",
              "1      84.0       94.0          81.0       88.0         77.0         94.0   \n",
              "2      79.0       87.0          84.0       96.0         78.0         95.0   \n",
              "3      17.0       13.0          50.0       18.0         51.0         42.0   \n",
              "4      93.0       82.0          92.0       86.0         91.0         91.0   \n",
              "\n",
              "   Acceleration  SprintSpeed  Agility  Stamina  ...  Nationality_Uganda  \\\n",
              "0          91.0         86.0     91.0     72.0  ...                   0   \n",
              "1          89.0         91.0     87.0     88.0  ...                   0   \n",
              "2          94.0         90.0     96.0     81.0  ...                   0   \n",
              "3          57.0         58.0     60.0     43.0  ...                   0   \n",
              "4          78.0         76.0     79.0     90.0  ...                   0   \n",
              "\n",
              "   Nationality_Ukraine  Nationality_United Arab Emirates  \\\n",
              "0                    0                                 0   \n",
              "1                    0                                 0   \n",
              "2                    0                                 0   \n",
              "3                    0                                 0   \n",
              "4                    0                                 0   \n",
              "\n",
              "   Nationality_United States  Nationality_Uruguay  Nationality_Uzbekistan  \\\n",
              "0                          0                    0                       0   \n",
              "1                          0                    0                       0   \n",
              "2                          0                    0                       0   \n",
              "3                          0                    0                       0   \n",
              "4                          0                    0                       0   \n",
              "\n",
              "   Nationality_Venezuela  Nationality_Wales  Nationality_Zambia  \\\n",
              "0                      0                  0                   0   \n",
              "1                      0                  0                   0   \n",
              "2                      0                  0                   0   \n",
              "3                      0                  0                   0   \n",
              "4                      0                  0                   0   \n",
              "\n",
              "   Nationality_Zimbabwe  \n",
              "0                     0  \n",
              "1                     0  \n",
              "2                     0  \n",
              "3                     0  \n",
              "4                     0  \n",
              "\n",
              "[5 rows x 187 columns]"
            ],
            "text/html": [
              "\n",
              "  <div id=\"df-2916a3db-e597-4043-8cce-61011b3f3f7f\">\n",
              "    <div class=\"colab-df-container\">\n",
              "      <div>\n",
              "<style scoped>\n",
              "    .dataframe tbody tr th:only-of-type {\n",
              "        vertical-align: middle;\n",
              "    }\n",
              "\n",
              "    .dataframe tbody tr th {\n",
              "        vertical-align: top;\n",
              "    }\n",
              "\n",
              "    .dataframe thead th {\n",
              "        text-align: right;\n",
              "    }\n",
              "</style>\n",
              "<table border=\"1\" class=\"dataframe\">\n",
              "  <thead>\n",
              "    <tr style=\"text-align: right;\">\n",
              "      <th></th>\n",
              "      <th>Crossing</th>\n",
              "      <th>Finishing</th>\n",
              "      <th>ShortPassing</th>\n",
              "      <th>Dribbling</th>\n",
              "      <th>LongPassing</th>\n",
              "      <th>BallControl</th>\n",
              "      <th>Acceleration</th>\n",
              "      <th>SprintSpeed</th>\n",
              "      <th>Agility</th>\n",
              "      <th>Stamina</th>\n",
              "      <th>...</th>\n",
              "      <th>Nationality_Uganda</th>\n",
              "      <th>Nationality_Ukraine</th>\n",
              "      <th>Nationality_United Arab Emirates</th>\n",
              "      <th>Nationality_United States</th>\n",
              "      <th>Nationality_Uruguay</th>\n",
              "      <th>Nationality_Uzbekistan</th>\n",
              "      <th>Nationality_Venezuela</th>\n",
              "      <th>Nationality_Wales</th>\n",
              "      <th>Nationality_Zambia</th>\n",
              "      <th>Nationality_Zimbabwe</th>\n",
              "    </tr>\n",
              "  </thead>\n",
              "  <tbody>\n",
              "    <tr>\n",
              "      <th>0</th>\n",
              "      <td>84.0</td>\n",
              "      <td>95.0</td>\n",
              "      <td>90.0</td>\n",
              "      <td>97.0</td>\n",
              "      <td>87.0</td>\n",
              "      <td>96.0</td>\n",
              "      <td>91.0</td>\n",
              "      <td>86.0</td>\n",
              "      <td>91.0</td>\n",
              "      <td>72.0</td>\n",
              "      <td>...</td>\n",
              "      <td>0</td>\n",
              "      <td>0</td>\n",
              "      <td>0</td>\n",
              "      <td>0</td>\n",
              "      <td>0</td>\n",
              "      <td>0</td>\n",
              "      <td>0</td>\n",
              "      <td>0</td>\n",
              "      <td>0</td>\n",
              "      <td>0</td>\n",
              "    </tr>\n",
              "    <tr>\n",
              "      <th>1</th>\n",
              "      <td>84.0</td>\n",
              "      <td>94.0</td>\n",
              "      <td>81.0</td>\n",
              "      <td>88.0</td>\n",
              "      <td>77.0</td>\n",
              "      <td>94.0</td>\n",
              "      <td>89.0</td>\n",
              "      <td>91.0</td>\n",
              "      <td>87.0</td>\n",
              "      <td>88.0</td>\n",
              "      <td>...</td>\n",
              "      <td>0</td>\n",
              "      <td>0</td>\n",
              "      <td>0</td>\n",
              "      <td>0</td>\n",
              "      <td>0</td>\n",
              "      <td>0</td>\n",
              "      <td>0</td>\n",
              "      <td>0</td>\n",
              "      <td>0</td>\n",
              "      <td>0</td>\n",
              "    </tr>\n",
              "    <tr>\n",
              "      <th>2</th>\n",
              "      <td>79.0</td>\n",
              "      <td>87.0</td>\n",
              "      <td>84.0</td>\n",
              "      <td>96.0</td>\n",
              "      <td>78.0</td>\n",
              "      <td>95.0</td>\n",
              "      <td>94.0</td>\n",
              "      <td>90.0</td>\n",
              "      <td>96.0</td>\n",
              "      <td>81.0</td>\n",
              "      <td>...</td>\n",
              "      <td>0</td>\n",
              "      <td>0</td>\n",
              "      <td>0</td>\n",
              "      <td>0</td>\n",
              "      <td>0</td>\n",
              "      <td>0</td>\n",
              "      <td>0</td>\n",
              "      <td>0</td>\n",
              "      <td>0</td>\n",
              "      <td>0</td>\n",
              "    </tr>\n",
              "    <tr>\n",
              "      <th>3</th>\n",
              "      <td>17.0</td>\n",
              "      <td>13.0</td>\n",
              "      <td>50.0</td>\n",
              "      <td>18.0</td>\n",
              "      <td>51.0</td>\n",
              "      <td>42.0</td>\n",
              "      <td>57.0</td>\n",
              "      <td>58.0</td>\n",
              "      <td>60.0</td>\n",
              "      <td>43.0</td>\n",
              "      <td>...</td>\n",
              "      <td>0</td>\n",
              "      <td>0</td>\n",
              "      <td>0</td>\n",
              "      <td>0</td>\n",
              "      <td>0</td>\n",
              "      <td>0</td>\n",
              "      <td>0</td>\n",
              "      <td>0</td>\n",
              "      <td>0</td>\n",
              "      <td>0</td>\n",
              "    </tr>\n",
              "    <tr>\n",
              "      <th>4</th>\n",
              "      <td>93.0</td>\n",
              "      <td>82.0</td>\n",
              "      <td>92.0</td>\n",
              "      <td>86.0</td>\n",
              "      <td>91.0</td>\n",
              "      <td>91.0</td>\n",
              "      <td>78.0</td>\n",
              "      <td>76.0</td>\n",
              "      <td>79.0</td>\n",
              "      <td>90.0</td>\n",
              "      <td>...</td>\n",
              "      <td>0</td>\n",
              "      <td>0</td>\n",
              "      <td>0</td>\n",
              "      <td>0</td>\n",
              "      <td>0</td>\n",
              "      <td>0</td>\n",
              "      <td>0</td>\n",
              "      <td>0</td>\n",
              "      <td>0</td>\n",
              "      <td>0</td>\n",
              "    </tr>\n",
              "  </tbody>\n",
              "</table>\n",
              "<p>5 rows × 187 columns</p>\n",
              "</div>\n",
              "      <button class=\"colab-df-convert\" onclick=\"convertToInteractive('df-2916a3db-e597-4043-8cce-61011b3f3f7f')\"\n",
              "              title=\"Convert this dataframe to an interactive table.\"\n",
              "              style=\"display:none;\">\n",
              "        \n",
              "  <svg xmlns=\"http://www.w3.org/2000/svg\" height=\"24px\"viewBox=\"0 0 24 24\"\n",
              "       width=\"24px\">\n",
              "    <path d=\"M0 0h24v24H0V0z\" fill=\"none\"/>\n",
              "    <path d=\"M18.56 5.44l.94 2.06.94-2.06 2.06-.94-2.06-.94-.94-2.06-.94 2.06-2.06.94zm-11 1L8.5 8.5l.94-2.06 2.06-.94-2.06-.94L8.5 2.5l-.94 2.06-2.06.94zm10 10l.94 2.06.94-2.06 2.06-.94-2.06-.94-.94-2.06-.94 2.06-2.06.94z\"/><path d=\"M17.41 7.96l-1.37-1.37c-.4-.4-.92-.59-1.43-.59-.52 0-1.04.2-1.43.59L10.3 9.45l-7.72 7.72c-.78.78-.78 2.05 0 2.83L4 21.41c.39.39.9.59 1.41.59.51 0 1.02-.2 1.41-.59l7.78-7.78 2.81-2.81c.8-.78.8-2.07 0-2.86zM5.41 20L4 18.59l7.72-7.72 1.47 1.35L5.41 20z\"/>\n",
              "  </svg>\n",
              "      </button>\n",
              "      \n",
              "  <style>\n",
              "    .colab-df-container {\n",
              "      display:flex;\n",
              "      flex-wrap:wrap;\n",
              "      gap: 12px;\n",
              "    }\n",
              "\n",
              "    .colab-df-convert {\n",
              "      background-color: #E8F0FE;\n",
              "      border: none;\n",
              "      border-radius: 50%;\n",
              "      cursor: pointer;\n",
              "      display: none;\n",
              "      fill: #1967D2;\n",
              "      height: 32px;\n",
              "      padding: 0 0 0 0;\n",
              "      width: 32px;\n",
              "    }\n",
              "\n",
              "    .colab-df-convert:hover {\n",
              "      background-color: #E2EBFA;\n",
              "      box-shadow: 0px 1px 2px rgba(60, 64, 67, 0.3), 0px 1px 3px 1px rgba(60, 64, 67, 0.15);\n",
              "      fill: #174EA6;\n",
              "    }\n",
              "\n",
              "    [theme=dark] .colab-df-convert {\n",
              "      background-color: #3B4455;\n",
              "      fill: #D2E3FC;\n",
              "    }\n",
              "\n",
              "    [theme=dark] .colab-df-convert:hover {\n",
              "      background-color: #434B5C;\n",
              "      box-shadow: 0px 1px 3px 1px rgba(0, 0, 0, 0.15);\n",
              "      filter: drop-shadow(0px 1px 2px rgba(0, 0, 0, 0.3));\n",
              "      fill: #FFFFFF;\n",
              "    }\n",
              "  </style>\n",
              "\n",
              "      <script>\n",
              "        const buttonEl =\n",
              "          document.querySelector('#df-2916a3db-e597-4043-8cce-61011b3f3f7f button.colab-df-convert');\n",
              "        buttonEl.style.display =\n",
              "          google.colab.kernel.accessAllowed ? 'block' : 'none';\n",
              "\n",
              "        async function convertToInteractive(key) {\n",
              "          const element = document.querySelector('#df-2916a3db-e597-4043-8cce-61011b3f3f7f');\n",
              "          const dataTable =\n",
              "            await google.colab.kernel.invokeFunction('convertToInteractive',\n",
              "                                                     [key], {});\n",
              "          if (!dataTable) return;\n",
              "\n",
              "          const docLinkHtml = 'Like what you see? Visit the ' +\n",
              "            '<a target=\"_blank\" href=https://colab.research.google.com/notebooks/data_table.ipynb>data table notebook</a>'\n",
              "            + ' to learn more about interactive tables.';\n",
              "          element.innerHTML = '';\n",
              "          dataTable['output_type'] = 'display_data';\n",
              "          await google.colab.output.renderOutput(dataTable, element);\n",
              "          const docLink = document.createElement('div');\n",
              "          docLink.innerHTML = docLinkHtml;\n",
              "          element.appendChild(docLink);\n",
              "        }\n",
              "      </script>\n",
              "    </div>\n",
              "  </div>\n",
              "  "
            ]
          },
          "metadata": {},
          "execution_count": 8
        }
      ],
      "source": [
        "X.head()"
      ]
    },
    {
      "cell_type": "code",
      "execution_count": 9,
      "metadata": {
        "colab": {
          "base_uri": "https://localhost:8080/"
        },
        "id": "IMKO2ygK7wfQ",
        "outputId": "78548f7e-f1f3-4905-c780-42320a1aa9e1"
      },
      "outputs": [
        {
          "output_type": "execute_result",
          "data": {
            "text/plain": [
              "187"
            ]
          },
          "metadata": {},
          "execution_count": 9
        }
      ],
      "source": [
        "len(X.columns)"
      ]
    },
    {
      "cell_type": "markdown",
      "metadata": {
        "id": "GNdKaMfB7wfR"
      },
      "source": [
        "### Set some fixed set of features"
      ]
    },
    {
      "cell_type": "code",
      "execution_count": 10,
      "metadata": {
        "id": "AKjFPy3z7wfR"
      },
      "outputs": [],
      "source": [
        "feature_name = list(X.columns)\n",
        "# no of maximum features we need to select\n",
        "num_feats=30"
      ]
    },
    {
      "cell_type": "markdown",
      "metadata": {
        "id": "4ITUpQip7wfR"
      },
      "source": [
        "## Filter Feature Selection - Pearson Correlation"
      ]
    },
    {
      "cell_type": "markdown",
      "metadata": {
        "id": "7Ryi4vj37wfS"
      },
      "source": [
        "### Pearson Correlation function"
      ]
    },
    {
      "cell_type": "code",
      "execution_count": 11,
      "metadata": {
        "id": "etpAA44E7wfS"
      },
      "outputs": [],
      "source": [
        "def cor_selector(X, y,num_feats):\n",
        "    # Your code goes here (Multiple lines)\n",
        "    cor_list = []\n",
        "    cor_feature_name = X.columns.tolist()\n",
        "    for i in cor_feature_name:\n",
        "        cor = np.corrcoef(X[i], y)[0,1]\n",
        "        cor_list.append(cor)\n",
        "    cor_list = [0 if np.isnan(i) else i for i in cor_list]\n",
        "    cor_feature = X.iloc[:,np.argsort(np.abs(cor_list))[-num_feats:]].columns.tolist()\n",
        "    # feature selection? 0 for not select, 1 for select\n",
        "    cor_support = [True if i in cor_feature else False for i in cor_feature_name] \n",
        "    # Your code ends here\n",
        "    return cor_support, cor_feature"
      ]
    },
    {
      "cell_type": "code",
      "execution_count": 12,
      "metadata": {
        "colab": {
          "base_uri": "https://localhost:8080/"
        },
        "id": "eOVCXxQo7wfT",
        "outputId": "e120bec8-b479-4793-811e-d3a271469521"
      },
      "outputs": [
        {
          "output_type": "stream",
          "name": "stdout",
          "text": [
            "30 selected features\n"
          ]
        }
      ],
      "source": [
        "cor_support, cor_feature = cor_selector(X, y,num_feats)\n",
        "print(str(len(cor_feature)), 'selected features')"
      ]
    },
    {
      "cell_type": "markdown",
      "metadata": {
        "id": "LfFIKoo-7wfT"
      },
      "source": [
        "### List the selected features from Pearson Correlation"
      ]
    },
    {
      "cell_type": "code",
      "execution_count": 13,
      "metadata": {
        "colab": {
          "base_uri": "https://localhost:8080/"
        },
        "id": "F137hSwT7wfT",
        "outputId": "7cf0596d-b343-4c47-f622-14c32c39ddaf"
      },
      "outputs": [
        {
          "output_type": "execute_result",
          "data": {
            "text/plain": [
              "['Nationality_Egypt',\n",
              " 'Stamina',\n",
              " 'Crossing',\n",
              " 'Nationality_Uruguay',\n",
              " 'Nationality_Costa Rica',\n",
              " 'Position_LW',\n",
              " 'Acceleration',\n",
              " 'SprintSpeed',\n",
              " 'Dribbling',\n",
              " 'ShotPower',\n",
              " 'Weak Foot',\n",
              " 'Nationality_Slovenia',\n",
              " 'Agility',\n",
              " 'Nationality_Gabon',\n",
              " 'LongShots',\n",
              " 'FKAccuracy',\n",
              " 'BallControl',\n",
              " 'Nationality_Belgium',\n",
              " 'Finishing',\n",
              " 'LongPassing',\n",
              " 'Volleys',\n",
              " 'ShortPassing',\n",
              " 'Position_RF',\n",
              " 'Position_LF',\n",
              " 'Body Type_Courtois',\n",
              " 'Body Type_Messi',\n",
              " 'Body Type_Neymar',\n",
              " 'Body Type_PLAYER_BODY_TYPE_25',\n",
              " 'Body Type_C. Ronaldo',\n",
              " 'Reactions']"
            ]
          },
          "metadata": {},
          "execution_count": 13
        }
      ],
      "source": [
        "cor_feature"
      ]
    },
    {
      "cell_type": "markdown",
      "metadata": {
        "id": "bG-FUg6q7wfU"
      },
      "source": [
        "## Filter Feature Selection - Chi-Sqaure"
      ]
    },
    {
      "cell_type": "code",
      "execution_count": 14,
      "metadata": {
        "id": "oxMF2wy17wfU"
      },
      "outputs": [],
      "source": [
        "from sklearn.feature_selection import SelectKBest\n",
        "from sklearn.feature_selection import chi2\n",
        "from sklearn.preprocessing import MinMaxScaler"
      ]
    },
    {
      "cell_type": "markdown",
      "metadata": {
        "id": "IQAZ1icV7wfU"
      },
      "source": [
        "### Chi-Squared Selector function"
      ]
    },
    {
      "cell_type": "code",
      "execution_count": 15,
      "metadata": {
        "id": "GuWPtBhx7wfU"
      },
      "outputs": [],
      "source": [
        "def chi_squared_selector(X, y, num_feats):\n",
        "    # Your code goes here (Multiple lines)\n",
        "    X_norm = MinMaxScaler().fit_transform(X)\n",
        "    chi_selector = SelectKBest(chi2, k=num_feats)\n",
        "    chi_selector.fit(X_norm, y)\n",
        "    chi_support = chi_selector.get_support()\n",
        "    chi_feature = X.loc[:,chi_support].columns.tolist()\n",
        "    # Your code ends here\n",
        "    return chi_support, chi_feature"
      ]
    },
    {
      "cell_type": "code",
      "execution_count": 16,
      "metadata": {
        "colab": {
          "base_uri": "https://localhost:8080/"
        },
        "id": "lX1aA42O7wfV",
        "outputId": "d67d6666-a1f7-4c26-c97c-4ba23fe07679"
      },
      "outputs": [
        {
          "output_type": "stream",
          "name": "stdout",
          "text": [
            "30 selected features\n"
          ]
        }
      ],
      "source": [
        "chi_support, chi_feature = chi_squared_selector(X, y,num_feats)\n",
        "print(str(len(chi_feature)), 'selected features')"
      ]
    },
    {
      "cell_type": "markdown",
      "metadata": {
        "id": "Wh73wV4g7wfW"
      },
      "source": [
        "### List the selected features from Chi-Square "
      ]
    },
    {
      "cell_type": "code",
      "execution_count": 17,
      "metadata": {
        "colab": {
          "base_uri": "https://localhost:8080/"
        },
        "id": "pF0MyVjD7wfW",
        "outputId": "de3b39ab-75c7-450a-d468-48921d8c3e61"
      },
      "outputs": [
        {
          "output_type": "execute_result",
          "data": {
            "text/plain": [
              "['Finishing',\n",
              " 'Volleys',\n",
              " 'FKAccuracy',\n",
              " 'Reactions',\n",
              " 'LongShots',\n",
              " 'Position_CM',\n",
              " 'Position_GK',\n",
              " 'Position_LAM',\n",
              " 'Position_LF',\n",
              " 'Position_LM',\n",
              " 'Position_LW',\n",
              " 'Position_RB',\n",
              " 'Position_RF',\n",
              " 'Body Type_C. Ronaldo',\n",
              " 'Body Type_Courtois',\n",
              " 'Body Type_Lean',\n",
              " 'Body Type_Messi',\n",
              " 'Body Type_Neymar',\n",
              " 'Body Type_PLAYER_BODY_TYPE_25',\n",
              " 'Nationality_Belgium',\n",
              " 'Nationality_Costa Rica',\n",
              " 'Nationality_Croatia',\n",
              " 'Nationality_Egypt',\n",
              " 'Nationality_France',\n",
              " 'Nationality_Gabon',\n",
              " 'Nationality_Netherlands',\n",
              " 'Nationality_Slovakia',\n",
              " 'Nationality_Slovenia',\n",
              " 'Nationality_Uruguay',\n",
              " 'Nationality_Wales']"
            ]
          },
          "metadata": {},
          "execution_count": 17
        }
      ],
      "source": [
        "chi_feature"
      ]
    },
    {
      "cell_type": "markdown",
      "metadata": {
        "id": "2X9wA_B77wfW"
      },
      "source": [
        "## Wrapper Feature Selection - Recursive Feature Elimination"
      ]
    },
    {
      "cell_type": "code",
      "execution_count": 18,
      "metadata": {
        "id": "gDwbhrZo7wfW"
      },
      "outputs": [],
      "source": [
        "from sklearn.feature_selection import RFE\n",
        "from sklearn.linear_model import LogisticRegression\n",
        "from sklearn.preprocessing import MinMaxScaler"
      ]
    },
    {
      "cell_type": "markdown",
      "metadata": {
        "id": "Y6jjsfj17wfX"
      },
      "source": [
        "### RFE Selector function"
      ]
    },
    {
      "cell_type": "code",
      "execution_count": 19,
      "metadata": {
        "id": "g9R2lwSR7wfX"
      },
      "outputs": [],
      "source": [
        "def rfe_selector(X, y, num_feats):\n",
        "    # Your code goes here (Multiple lines)\n",
        "    X_norm = MinMaxScaler().fit_transform(X)\n",
        "    rfe_selector = RFE(estimator=LogisticRegression(), n_features_to_select=num_feats, step=10, verbose=5)\n",
        "    rfe_selector.fit(X_norm, y)\n",
        "    rfe_support = rfe_selector.get_support()\n",
        "    rfe_feature = X.loc[:,rfe_support].columns.tolist()\n",
        "    # Your code ends here\n",
        "    return rfe_support, rfe_feature"
      ]
    },
    {
      "cell_type": "code",
      "execution_count": 20,
      "metadata": {
        "colab": {
          "base_uri": "https://localhost:8080/"
        },
        "id": "onbqRWqC7wfX",
        "outputId": "19f861f7-c23e-40f4-e510-0dcc1f9979fc"
      },
      "outputs": [
        {
          "output_type": "stream",
          "name": "stdout",
          "text": [
            "Fitting estimator with 187 features.\n",
            "Fitting estimator with 177 features.\n",
            "Fitting estimator with 167 features.\n",
            "Fitting estimator with 157 features.\n",
            "Fitting estimator with 147 features.\n",
            "Fitting estimator with 137 features.\n",
            "Fitting estimator with 127 features.\n",
            "Fitting estimator with 117 features.\n",
            "Fitting estimator with 107 features.\n",
            "Fitting estimator with 97 features.\n",
            "Fitting estimator with 87 features.\n",
            "Fitting estimator with 77 features.\n",
            "Fitting estimator with 67 features.\n",
            "Fitting estimator with 57 features.\n",
            "Fitting estimator with 47 features.\n",
            "Fitting estimator with 37 features.\n",
            "30 selected features\n"
          ]
        }
      ],
      "source": [
        "rfe_support, rfe_feature = rfe_selector(X, y,num_feats)\n",
        "print(str(len(rfe_feature)), 'selected features')"
      ]
    },
    {
      "cell_type": "markdown",
      "metadata": {
        "id": "cYlGKVrt7wfY"
      },
      "source": [
        "### List the selected features from RFE"
      ]
    },
    {
      "cell_type": "code",
      "execution_count": 21,
      "metadata": {
        "colab": {
          "base_uri": "https://localhost:8080/"
        },
        "id": "lC2RDMKh7wfY",
        "outputId": "fd41dead-e3e2-4466-972f-64131122e1f3"
      },
      "outputs": [
        {
          "output_type": "execute_result",
          "data": {
            "text/plain": [
              "['Finishing',\n",
              " 'ShortPassing',\n",
              " 'LongPassing',\n",
              " 'BallControl',\n",
              " 'SprintSpeed',\n",
              " 'Agility',\n",
              " 'Volleys',\n",
              " 'Reactions',\n",
              " 'Strength',\n",
              " 'Aggression',\n",
              " 'Position_CAM',\n",
              " 'Position_CM',\n",
              " 'Position_GK',\n",
              " 'Position_LCB',\n",
              " 'Position_LM',\n",
              " 'Position_LW',\n",
              " 'Position_RB',\n",
              " 'Position_RCB',\n",
              " 'Position_RW',\n",
              " 'Body Type_Courtois',\n",
              " 'Body Type_Lean',\n",
              " 'Body Type_PLAYER_BODY_TYPE_25',\n",
              " 'Nationality_Belgium',\n",
              " 'Nationality_Costa Rica',\n",
              " 'Nationality_Croatia',\n",
              " 'Nationality_Gabon',\n",
              " 'Nationality_Italy',\n",
              " 'Nationality_Netherlands',\n",
              " 'Nationality_Slovenia',\n",
              " 'Nationality_Uruguay']"
            ]
          },
          "metadata": {},
          "execution_count": 21
        }
      ],
      "source": [
        "rfe_feature"
      ]
    },
    {
      "cell_type": "markdown",
      "metadata": {
        "id": "E8q-1Sjt7wfY"
      },
      "source": [
        "## Embedded Selection - Lasso: SelectFromModel"
      ]
    },
    {
      "cell_type": "code",
      "execution_count": 37,
      "metadata": {
        "id": "BveLzeeS7wfY"
      },
      "outputs": [],
      "source": [
        "from sklearn.feature_selection import SelectFromModel\n",
        "from sklearn.linear_model import LogisticRegression\n",
        "from sklearn.preprocessing import MinMaxScaler"
      ]
    },
    {
      "cell_type": "code",
      "execution_count": 38,
      "metadata": {
        "id": "2VsHqNdY7wfZ"
      },
      "outputs": [],
      "source": [
        "def embedded_log_reg_selector(X, y, num_feats):\n",
        "    # Your code goes here (Multiple lines)\n",
        "    embedded_lr_selector = SelectFromModel(LogisticRegression(penalty=\"l2\"), max_features=num_feats)\n",
        "    embedded_lr_selector.fit(X, y)\n",
        "    embedded_lr_support = embedded_lr_selector.get_support()\n",
        "    embedded_lr_feature = X.loc[:,embedded_lr_support].columns.tolist()\n",
        "    # Your code ends here\n",
        "    return embedded_lr_support, embedded_lr_feature"
      ]
    },
    {
      "cell_type": "code",
      "execution_count": 39,
      "metadata": {
        "colab": {
          "base_uri": "https://localhost:8080/"
        },
        "id": "9_-bP2UY7wfZ",
        "outputId": "6767d4aa-f1a7-47e0-f153-00177fc7c203"
      },
      "outputs": [
        {
          "output_type": "stream",
          "name": "stdout",
          "text": [
            "30 selected features\n"
          ]
        },
        {
          "output_type": "stream",
          "name": "stderr",
          "text": [
            "/usr/local/lib/python3.7/dist-packages/sklearn/linear_model/_logistic.py:818: ConvergenceWarning: lbfgs failed to converge (status=1):\n",
            "STOP: TOTAL NO. of ITERATIONS REACHED LIMIT.\n",
            "\n",
            "Increase the number of iterations (max_iter) or scale the data as shown in:\n",
            "    https://scikit-learn.org/stable/modules/preprocessing.html\n",
            "Please also refer to the documentation for alternative solver options:\n",
            "    https://scikit-learn.org/stable/modules/linear_model.html#logistic-regression\n",
            "  extra_warning_msg=_LOGISTIC_SOLVER_CONVERGENCE_MSG,\n"
          ]
        }
      ],
      "source": [
        "embedded_lr_support, embedded_lr_feature = embedded_log_reg_selector(X, y, num_feats)\n",
        "print(str(len(embedded_lr_feature)), 'selected features')"
      ]
    },
    {
      "cell_type": "code",
      "execution_count": 40,
      "metadata": {
        "colab": {
          "base_uri": "https://localhost:8080/"
        },
        "id": "PyWpFX727wfa",
        "outputId": "a900e22f-b917-483e-a6c0-7794513cfea4"
      },
      "outputs": [
        {
          "output_type": "execute_result",
          "data": {
            "text/plain": [
              "['Reactions',\n",
              " 'Balance',\n",
              " 'Strength',\n",
              " 'Weak Foot',\n",
              " 'Preferred Foot_Left',\n",
              " 'Preferred Foot_Right',\n",
              " 'Position_CAM',\n",
              " 'Position_CM',\n",
              " 'Position_GK',\n",
              " 'Position_LCB',\n",
              " 'Position_LF',\n",
              " 'Position_LM',\n",
              " 'Position_LW',\n",
              " 'Position_RB',\n",
              " 'Position_RCB',\n",
              " 'Position_RF',\n",
              " 'Position_RM',\n",
              " 'Position_RW',\n",
              " 'Body Type_Lean',\n",
              " 'Body Type_Normal',\n",
              " 'Nationality_Belgium',\n",
              " 'Nationality_Brazil',\n",
              " 'Nationality_England',\n",
              " 'Nationality_France',\n",
              " 'Nationality_Netherlands',\n",
              " 'Nationality_Slovenia',\n",
              " 'Nationality_Spain',\n",
              " 'Nationality_Turkey',\n",
              " 'Nationality_Ukraine',\n",
              " 'Nationality_Uruguay']"
            ]
          },
          "metadata": {},
          "execution_count": 40
        }
      ],
      "source": [
        "embedded_lr_feature"
      ]
    },
    {
      "cell_type": "markdown",
      "metadata": {
        "id": "ZzYgz9f37wfa"
      },
      "source": [
        "## Tree based(Random Forest): SelectFromModel"
      ]
    },
    {
      "cell_type": "code",
      "execution_count": 41,
      "metadata": {
        "id": "6i3RVSny7wfa"
      },
      "outputs": [],
      "source": [
        "from sklearn.feature_selection import SelectFromModel\n",
        "from sklearn.ensemble import RandomForestClassifier"
      ]
    },
    {
      "cell_type": "code",
      "execution_count": 42,
      "metadata": {
        "id": "drWFfaYJ7wfa"
      },
      "outputs": [],
      "source": [
        "def embedded_rf_selector(X, y, num_feats):\n",
        "    # Your code goes here (Multiple lines)\n",
        "    embedded_rf_selector = SelectFromModel(RandomForestClassifier(n_estimators=100), max_features=num_feats)\n",
        "    embedded_rf_selector.fit(X, y)\n",
        "    embedded_rf_support = embedded_rf_selector.get_support()\n",
        "    embedded_rf_feature = X.loc[:,embedded_rf_support].columns.tolist()\n",
        "    # Your code ends here\n",
        "    return embedded_rf_support, embedded_rf_feature"
      ]
    },
    {
      "cell_type": "code",
      "execution_count": 43,
      "metadata": {
        "colab": {
          "base_uri": "https://localhost:8080/"
        },
        "id": "1spbuiz67wfb",
        "outputId": "effc6e56-7390-49e9-f1f4-f1bba5917444"
      },
      "outputs": [
        {
          "output_type": "stream",
          "name": "stdout",
          "text": [
            "22 selected features\n"
          ]
        }
      ],
      "source": [
        "embedded_rf_support, embedded_rf_feature = embedded_rf_selector(X, y, num_feats)\n",
        "print(str(len(embedded_rf_feature)), 'selected features')"
      ]
    },
    {
      "cell_type": "code",
      "execution_count": 44,
      "metadata": {
        "colab": {
          "base_uri": "https://localhost:8080/"
        },
        "id": "SGQ4XuG77wfb",
        "outputId": "8a7cb0dd-b12b-403b-d766-a4f1e1f47d7d"
      },
      "outputs": [
        {
          "output_type": "execute_result",
          "data": {
            "text/plain": [
              "['Crossing',\n",
              " 'Finishing',\n",
              " 'ShortPassing',\n",
              " 'Dribbling',\n",
              " 'LongPassing',\n",
              " 'BallControl',\n",
              " 'Acceleration',\n",
              " 'SprintSpeed',\n",
              " 'Agility',\n",
              " 'Stamina',\n",
              " 'Volleys',\n",
              " 'FKAccuracy',\n",
              " 'Reactions',\n",
              " 'Balance',\n",
              " 'ShotPower',\n",
              " 'Strength',\n",
              " 'LongShots',\n",
              " 'Aggression',\n",
              " 'Interceptions',\n",
              " 'Weak Foot',\n",
              " 'Body Type_Courtois',\n",
              " 'Nationality_Slovenia']"
            ]
          },
          "metadata": {},
          "execution_count": 44
        }
      ],
      "source": [
        "embedded_rf_feature"
      ]
    },
    {
      "cell_type": "markdown",
      "metadata": {
        "id": "t3t2dleA7wfb"
      },
      "source": [
        "## Tree based(Light GBM): SelectFromModel"
      ]
    },
    {
      "cell_type": "code",
      "execution_count": 45,
      "metadata": {
        "id": "7U2l9Iz07wfb"
      },
      "outputs": [],
      "source": [
        "from sklearn.feature_selection import SelectFromModel\n",
        "from lightgbm import LGBMClassifier"
      ]
    },
    {
      "cell_type": "code",
      "execution_count": 46,
      "metadata": {
        "id": "CeqgnSE-7wfc"
      },
      "outputs": [],
      "source": [
        "def embedded_lgbm_selector(X, y, num_feats):\n",
        "    # Your code goes here (Multiple lines)\n",
        "    lgbc=LGBMClassifier(n_estimators=500, learning_rate=0.05, num_leaves=32, colsample_bytree=0.2,\n",
        "            reg_alpha=3, reg_lambda=1, min_split_gain=0.01, min_child_weight=40)\n",
        "\n",
        "    embedded_lgbm_selector = SelectFromModel(lgbc, max_features=num_feats)\n",
        "    embedded_lgbm_selector.fit(X, y)\n",
        "    embedded_lgbm_support = embedded_lgbm_selector.get_support()\n",
        "    embedded_lgbm_feature = X.loc[:,embedded_lgbm_support].columns.tolist()\n",
        "    # Your code ends here\n",
        "    return embedded_lgbm_support, embedded_lgbm_feature"
      ]
    },
    {
      "cell_type": "code",
      "execution_count": 47,
      "metadata": {
        "colab": {
          "base_uri": "https://localhost:8080/"
        },
        "id": "3oHkAYF17wfc",
        "outputId": "334030b6-da35-44e5-bfcf-429db4f04baa"
      },
      "outputs": [
        {
          "output_type": "stream",
          "name": "stdout",
          "text": [
            "30 selected features\n"
          ]
        }
      ],
      "source": [
        "embedded_lgbm_support, embedded_lgbm_feature = embedded_lgbm_selector(X, y, num_feats)\n",
        "print(str(len(embedded_lgbm_feature)), 'selected features')"
      ]
    },
    {
      "cell_type": "code",
      "execution_count": 48,
      "metadata": {
        "colab": {
          "base_uri": "https://localhost:8080/"
        },
        "id": "9dQmCKfx7wfc",
        "outputId": "7125a850-9672-4fba-c5c0-a1fa2ba6b80f"
      },
      "outputs": [
        {
          "output_type": "execute_result",
          "data": {
            "text/plain": [
              "['Crossing',\n",
              " 'Finishing',\n",
              " 'ShortPassing',\n",
              " 'Dribbling',\n",
              " 'LongPassing',\n",
              " 'BallControl',\n",
              " 'Acceleration',\n",
              " 'SprintSpeed',\n",
              " 'Agility',\n",
              " 'Stamina',\n",
              " 'Volleys',\n",
              " 'FKAccuracy',\n",
              " 'Reactions',\n",
              " 'Balance',\n",
              " 'ShotPower',\n",
              " 'Strength',\n",
              " 'LongShots',\n",
              " 'Aggression',\n",
              " 'Interceptions',\n",
              " 'Weak Foot',\n",
              " 'Preferred Foot_Left',\n",
              " 'Preferred Foot_Right',\n",
              " 'Position_CAM',\n",
              " 'Position_CB',\n",
              " 'Position_CDM',\n",
              " 'Position_CF',\n",
              " 'Position_CM',\n",
              " 'Position_GK',\n",
              " 'Position_LAM',\n",
              " 'Position_LB']"
            ]
          },
          "metadata": {},
          "execution_count": 48
        }
      ],
      "source": [
        "embedded_lgbm_feature"
      ]
    },
    {
      "cell_type": "markdown",
      "metadata": {
        "id": "sAB1-jaA7wfd"
      },
      "source": [
        "## Putting all of it together: AutoFeatureSelector Tool"
      ]
    },
    {
      "cell_type": "code",
      "execution_count": 50,
      "metadata": {
        "colab": {
          "base_uri": "https://localhost:8080/",
          "height": 1000
        },
        "id": "AhW4jAxU7wfe",
        "outputId": "35c444ad-f714-429f-b980-f73dc40ff089"
      },
      "outputs": [
        {
          "output_type": "stream",
          "name": "stderr",
          "text": [
            "/usr/local/lib/python3.7/dist-packages/numpy/core/fromnumeric.py:84: FutureWarning: Dropping of nuisance columns in DataFrame reductions (with 'numeric_only=None') is deprecated; in a future version this will raise TypeError.  Select only valid columns before calling the reduction.\n",
            "  return reduction(axis=axis, out=out, **passkwargs)\n"
          ]
        },
        {
          "output_type": "execute_result",
          "data": {
            "text/plain": [
              "                    Feature  Pearson  Chi-2    RFE  Logistics  Random Forest  \\\n",
              "1                 Reactions     True   True   True       True           True   \n",
              "2                   Volleys     True   True   True      False           True   \n",
              "3      Nationality_Slovenia     True   True   True       True           True   \n",
              "4                 Finishing     True   True   True      False           True   \n",
              "5                 Weak Foot     True  False  False       True           True   \n",
              "6                  Strength    False  False   True       True           True   \n",
              "7               SprintSpeed     True  False   True      False           True   \n",
              "8              ShortPassing     True  False   True      False           True   \n",
              "9               Position_LW     True   True   True       True          False   \n",
              "10              Position_GK    False   True   True       True          False   \n",
              "11              Position_CM    False   True   True       True          False   \n",
              "12      Nationality_Uruguay     True   True   True       True          False   \n",
              "13      Nationality_Belgium     True   True   True       True          False   \n",
              "14                LongShots     True   True  False      False           True   \n",
              "15              LongPassing     True  False   True      False           True   \n",
              "16               FKAccuracy     True   True  False      False           True   \n",
              "17       Body Type_Courtois     True   True   True      False           True   \n",
              "18              BallControl     True  False   True      False           True   \n",
              "19                  Agility     True  False   True      False           True   \n",
              "20                  Stamina     True  False  False      False           True   \n",
              "21                ShotPower     True  False  False      False           True   \n",
              "22              Position_RF     True   True  False       True          False   \n",
              "23              Position_RB    False   True   True       True          False   \n",
              "24              Position_LM    False   True   True       True          False   \n",
              "25              Position_LF     True   True  False       True          False   \n",
              "26             Position_CAM    False  False   True       True          False   \n",
              "27  Nationality_Netherlands    False   True   True       True          False   \n",
              "28        Nationality_Gabon     True   True   True      False          False   \n",
              "29   Nationality_Costa Rica     True   True   True      False          False   \n",
              "30                Dribbling     True  False  False      False           True   \n",
              "\n",
              "    LightGBM  Total  \n",
              "1       True      6  \n",
              "2       True      5  \n",
              "3      False      5  \n",
              "4       True      5  \n",
              "5       True      4  \n",
              "6       True      4  \n",
              "7       True      4  \n",
              "8       True      4  \n",
              "9      False      4  \n",
              "10      True      4  \n",
              "11      True      4  \n",
              "12     False      4  \n",
              "13     False      4  \n",
              "14      True      4  \n",
              "15      True      4  \n",
              "16      True      4  \n",
              "17     False      4  \n",
              "18      True      4  \n",
              "19      True      4  \n",
              "20      True      3  \n",
              "21      True      3  \n",
              "22     False      3  \n",
              "23     False      3  \n",
              "24     False      3  \n",
              "25     False      3  \n",
              "26      True      3  \n",
              "27     False      3  \n",
              "28     False      3  \n",
              "29     False      3  \n",
              "30      True      3  "
            ],
            "text/html": [
              "\n",
              "  <div id=\"df-9a6747c3-8b60-4176-aa7c-964fdbb5bbe6\">\n",
              "    <div class=\"colab-df-container\">\n",
              "      <div>\n",
              "<style scoped>\n",
              "    .dataframe tbody tr th:only-of-type {\n",
              "        vertical-align: middle;\n",
              "    }\n",
              "\n",
              "    .dataframe tbody tr th {\n",
              "        vertical-align: top;\n",
              "    }\n",
              "\n",
              "    .dataframe thead th {\n",
              "        text-align: right;\n",
              "    }\n",
              "</style>\n",
              "<table border=\"1\" class=\"dataframe\">\n",
              "  <thead>\n",
              "    <tr style=\"text-align: right;\">\n",
              "      <th></th>\n",
              "      <th>Feature</th>\n",
              "      <th>Pearson</th>\n",
              "      <th>Chi-2</th>\n",
              "      <th>RFE</th>\n",
              "      <th>Logistics</th>\n",
              "      <th>Random Forest</th>\n",
              "      <th>LightGBM</th>\n",
              "      <th>Total</th>\n",
              "    </tr>\n",
              "  </thead>\n",
              "  <tbody>\n",
              "    <tr>\n",
              "      <th>1</th>\n",
              "      <td>Reactions</td>\n",
              "      <td>True</td>\n",
              "      <td>True</td>\n",
              "      <td>True</td>\n",
              "      <td>True</td>\n",
              "      <td>True</td>\n",
              "      <td>True</td>\n",
              "      <td>6</td>\n",
              "    </tr>\n",
              "    <tr>\n",
              "      <th>2</th>\n",
              "      <td>Volleys</td>\n",
              "      <td>True</td>\n",
              "      <td>True</td>\n",
              "      <td>True</td>\n",
              "      <td>False</td>\n",
              "      <td>True</td>\n",
              "      <td>True</td>\n",
              "      <td>5</td>\n",
              "    </tr>\n",
              "    <tr>\n",
              "      <th>3</th>\n",
              "      <td>Nationality_Slovenia</td>\n",
              "      <td>True</td>\n",
              "      <td>True</td>\n",
              "      <td>True</td>\n",
              "      <td>True</td>\n",
              "      <td>True</td>\n",
              "      <td>False</td>\n",
              "      <td>5</td>\n",
              "    </tr>\n",
              "    <tr>\n",
              "      <th>4</th>\n",
              "      <td>Finishing</td>\n",
              "      <td>True</td>\n",
              "      <td>True</td>\n",
              "      <td>True</td>\n",
              "      <td>False</td>\n",
              "      <td>True</td>\n",
              "      <td>True</td>\n",
              "      <td>5</td>\n",
              "    </tr>\n",
              "    <tr>\n",
              "      <th>5</th>\n",
              "      <td>Weak Foot</td>\n",
              "      <td>True</td>\n",
              "      <td>False</td>\n",
              "      <td>False</td>\n",
              "      <td>True</td>\n",
              "      <td>True</td>\n",
              "      <td>True</td>\n",
              "      <td>4</td>\n",
              "    </tr>\n",
              "    <tr>\n",
              "      <th>6</th>\n",
              "      <td>Strength</td>\n",
              "      <td>False</td>\n",
              "      <td>False</td>\n",
              "      <td>True</td>\n",
              "      <td>True</td>\n",
              "      <td>True</td>\n",
              "      <td>True</td>\n",
              "      <td>4</td>\n",
              "    </tr>\n",
              "    <tr>\n",
              "      <th>7</th>\n",
              "      <td>SprintSpeed</td>\n",
              "      <td>True</td>\n",
              "      <td>False</td>\n",
              "      <td>True</td>\n",
              "      <td>False</td>\n",
              "      <td>True</td>\n",
              "      <td>True</td>\n",
              "      <td>4</td>\n",
              "    </tr>\n",
              "    <tr>\n",
              "      <th>8</th>\n",
              "      <td>ShortPassing</td>\n",
              "      <td>True</td>\n",
              "      <td>False</td>\n",
              "      <td>True</td>\n",
              "      <td>False</td>\n",
              "      <td>True</td>\n",
              "      <td>True</td>\n",
              "      <td>4</td>\n",
              "    </tr>\n",
              "    <tr>\n",
              "      <th>9</th>\n",
              "      <td>Position_LW</td>\n",
              "      <td>True</td>\n",
              "      <td>True</td>\n",
              "      <td>True</td>\n",
              "      <td>True</td>\n",
              "      <td>False</td>\n",
              "      <td>False</td>\n",
              "      <td>4</td>\n",
              "    </tr>\n",
              "    <tr>\n",
              "      <th>10</th>\n",
              "      <td>Position_GK</td>\n",
              "      <td>False</td>\n",
              "      <td>True</td>\n",
              "      <td>True</td>\n",
              "      <td>True</td>\n",
              "      <td>False</td>\n",
              "      <td>True</td>\n",
              "      <td>4</td>\n",
              "    </tr>\n",
              "    <tr>\n",
              "      <th>11</th>\n",
              "      <td>Position_CM</td>\n",
              "      <td>False</td>\n",
              "      <td>True</td>\n",
              "      <td>True</td>\n",
              "      <td>True</td>\n",
              "      <td>False</td>\n",
              "      <td>True</td>\n",
              "      <td>4</td>\n",
              "    </tr>\n",
              "    <tr>\n",
              "      <th>12</th>\n",
              "      <td>Nationality_Uruguay</td>\n",
              "      <td>True</td>\n",
              "      <td>True</td>\n",
              "      <td>True</td>\n",
              "      <td>True</td>\n",
              "      <td>False</td>\n",
              "      <td>False</td>\n",
              "      <td>4</td>\n",
              "    </tr>\n",
              "    <tr>\n",
              "      <th>13</th>\n",
              "      <td>Nationality_Belgium</td>\n",
              "      <td>True</td>\n",
              "      <td>True</td>\n",
              "      <td>True</td>\n",
              "      <td>True</td>\n",
              "      <td>False</td>\n",
              "      <td>False</td>\n",
              "      <td>4</td>\n",
              "    </tr>\n",
              "    <tr>\n",
              "      <th>14</th>\n",
              "      <td>LongShots</td>\n",
              "      <td>True</td>\n",
              "      <td>True</td>\n",
              "      <td>False</td>\n",
              "      <td>False</td>\n",
              "      <td>True</td>\n",
              "      <td>True</td>\n",
              "      <td>4</td>\n",
              "    </tr>\n",
              "    <tr>\n",
              "      <th>15</th>\n",
              "      <td>LongPassing</td>\n",
              "      <td>True</td>\n",
              "      <td>False</td>\n",
              "      <td>True</td>\n",
              "      <td>False</td>\n",
              "      <td>True</td>\n",
              "      <td>True</td>\n",
              "      <td>4</td>\n",
              "    </tr>\n",
              "    <tr>\n",
              "      <th>16</th>\n",
              "      <td>FKAccuracy</td>\n",
              "      <td>True</td>\n",
              "      <td>True</td>\n",
              "      <td>False</td>\n",
              "      <td>False</td>\n",
              "      <td>True</td>\n",
              "      <td>True</td>\n",
              "      <td>4</td>\n",
              "    </tr>\n",
              "    <tr>\n",
              "      <th>17</th>\n",
              "      <td>Body Type_Courtois</td>\n",
              "      <td>True</td>\n",
              "      <td>True</td>\n",
              "      <td>True</td>\n",
              "      <td>False</td>\n",
              "      <td>True</td>\n",
              "      <td>False</td>\n",
              "      <td>4</td>\n",
              "    </tr>\n",
              "    <tr>\n",
              "      <th>18</th>\n",
              "      <td>BallControl</td>\n",
              "      <td>True</td>\n",
              "      <td>False</td>\n",
              "      <td>True</td>\n",
              "      <td>False</td>\n",
              "      <td>True</td>\n",
              "      <td>True</td>\n",
              "      <td>4</td>\n",
              "    </tr>\n",
              "    <tr>\n",
              "      <th>19</th>\n",
              "      <td>Agility</td>\n",
              "      <td>True</td>\n",
              "      <td>False</td>\n",
              "      <td>True</td>\n",
              "      <td>False</td>\n",
              "      <td>True</td>\n",
              "      <td>True</td>\n",
              "      <td>4</td>\n",
              "    </tr>\n",
              "    <tr>\n",
              "      <th>20</th>\n",
              "      <td>Stamina</td>\n",
              "      <td>True</td>\n",
              "      <td>False</td>\n",
              "      <td>False</td>\n",
              "      <td>False</td>\n",
              "      <td>True</td>\n",
              "      <td>True</td>\n",
              "      <td>3</td>\n",
              "    </tr>\n",
              "    <tr>\n",
              "      <th>21</th>\n",
              "      <td>ShotPower</td>\n",
              "      <td>True</td>\n",
              "      <td>False</td>\n",
              "      <td>False</td>\n",
              "      <td>False</td>\n",
              "      <td>True</td>\n",
              "      <td>True</td>\n",
              "      <td>3</td>\n",
              "    </tr>\n",
              "    <tr>\n",
              "      <th>22</th>\n",
              "      <td>Position_RF</td>\n",
              "      <td>True</td>\n",
              "      <td>True</td>\n",
              "      <td>False</td>\n",
              "      <td>True</td>\n",
              "      <td>False</td>\n",
              "      <td>False</td>\n",
              "      <td>3</td>\n",
              "    </tr>\n",
              "    <tr>\n",
              "      <th>23</th>\n",
              "      <td>Position_RB</td>\n",
              "      <td>False</td>\n",
              "      <td>True</td>\n",
              "      <td>True</td>\n",
              "      <td>True</td>\n",
              "      <td>False</td>\n",
              "      <td>False</td>\n",
              "      <td>3</td>\n",
              "    </tr>\n",
              "    <tr>\n",
              "      <th>24</th>\n",
              "      <td>Position_LM</td>\n",
              "      <td>False</td>\n",
              "      <td>True</td>\n",
              "      <td>True</td>\n",
              "      <td>True</td>\n",
              "      <td>False</td>\n",
              "      <td>False</td>\n",
              "      <td>3</td>\n",
              "    </tr>\n",
              "    <tr>\n",
              "      <th>25</th>\n",
              "      <td>Position_LF</td>\n",
              "      <td>True</td>\n",
              "      <td>True</td>\n",
              "      <td>False</td>\n",
              "      <td>True</td>\n",
              "      <td>False</td>\n",
              "      <td>False</td>\n",
              "      <td>3</td>\n",
              "    </tr>\n",
              "    <tr>\n",
              "      <th>26</th>\n",
              "      <td>Position_CAM</td>\n",
              "      <td>False</td>\n",
              "      <td>False</td>\n",
              "      <td>True</td>\n",
              "      <td>True</td>\n",
              "      <td>False</td>\n",
              "      <td>True</td>\n",
              "      <td>3</td>\n",
              "    </tr>\n",
              "    <tr>\n",
              "      <th>27</th>\n",
              "      <td>Nationality_Netherlands</td>\n",
              "      <td>False</td>\n",
              "      <td>True</td>\n",
              "      <td>True</td>\n",
              "      <td>True</td>\n",
              "      <td>False</td>\n",
              "      <td>False</td>\n",
              "      <td>3</td>\n",
              "    </tr>\n",
              "    <tr>\n",
              "      <th>28</th>\n",
              "      <td>Nationality_Gabon</td>\n",
              "      <td>True</td>\n",
              "      <td>True</td>\n",
              "      <td>True</td>\n",
              "      <td>False</td>\n",
              "      <td>False</td>\n",
              "      <td>False</td>\n",
              "      <td>3</td>\n",
              "    </tr>\n",
              "    <tr>\n",
              "      <th>29</th>\n",
              "      <td>Nationality_Costa Rica</td>\n",
              "      <td>True</td>\n",
              "      <td>True</td>\n",
              "      <td>True</td>\n",
              "      <td>False</td>\n",
              "      <td>False</td>\n",
              "      <td>False</td>\n",
              "      <td>3</td>\n",
              "    </tr>\n",
              "    <tr>\n",
              "      <th>30</th>\n",
              "      <td>Dribbling</td>\n",
              "      <td>True</td>\n",
              "      <td>False</td>\n",
              "      <td>False</td>\n",
              "      <td>False</td>\n",
              "      <td>True</td>\n",
              "      <td>True</td>\n",
              "      <td>3</td>\n",
              "    </tr>\n",
              "  </tbody>\n",
              "</table>\n",
              "</div>\n",
              "      <button class=\"colab-df-convert\" onclick=\"convertToInteractive('df-9a6747c3-8b60-4176-aa7c-964fdbb5bbe6')\"\n",
              "              title=\"Convert this dataframe to an interactive table.\"\n",
              "              style=\"display:none;\">\n",
              "        \n",
              "  <svg xmlns=\"http://www.w3.org/2000/svg\" height=\"24px\"viewBox=\"0 0 24 24\"\n",
              "       width=\"24px\">\n",
              "    <path d=\"M0 0h24v24H0V0z\" fill=\"none\"/>\n",
              "    <path d=\"M18.56 5.44l.94 2.06.94-2.06 2.06-.94-2.06-.94-.94-2.06-.94 2.06-2.06.94zm-11 1L8.5 8.5l.94-2.06 2.06-.94-2.06-.94L8.5 2.5l-.94 2.06-2.06.94zm10 10l.94 2.06.94-2.06 2.06-.94-2.06-.94-.94-2.06-.94 2.06-2.06.94z\"/><path d=\"M17.41 7.96l-1.37-1.37c-.4-.4-.92-.59-1.43-.59-.52 0-1.04.2-1.43.59L10.3 9.45l-7.72 7.72c-.78.78-.78 2.05 0 2.83L4 21.41c.39.39.9.59 1.41.59.51 0 1.02-.2 1.41-.59l7.78-7.78 2.81-2.81c.8-.78.8-2.07 0-2.86zM5.41 20L4 18.59l7.72-7.72 1.47 1.35L5.41 20z\"/>\n",
              "  </svg>\n",
              "      </button>\n",
              "      \n",
              "  <style>\n",
              "    .colab-df-container {\n",
              "      display:flex;\n",
              "      flex-wrap:wrap;\n",
              "      gap: 12px;\n",
              "    }\n",
              "\n",
              "    .colab-df-convert {\n",
              "      background-color: #E8F0FE;\n",
              "      border: none;\n",
              "      border-radius: 50%;\n",
              "      cursor: pointer;\n",
              "      display: none;\n",
              "      fill: #1967D2;\n",
              "      height: 32px;\n",
              "      padding: 0 0 0 0;\n",
              "      width: 32px;\n",
              "    }\n",
              "\n",
              "    .colab-df-convert:hover {\n",
              "      background-color: #E2EBFA;\n",
              "      box-shadow: 0px 1px 2px rgba(60, 64, 67, 0.3), 0px 1px 3px 1px rgba(60, 64, 67, 0.15);\n",
              "      fill: #174EA6;\n",
              "    }\n",
              "\n",
              "    [theme=dark] .colab-df-convert {\n",
              "      background-color: #3B4455;\n",
              "      fill: #D2E3FC;\n",
              "    }\n",
              "\n",
              "    [theme=dark] .colab-df-convert:hover {\n",
              "      background-color: #434B5C;\n",
              "      box-shadow: 0px 1px 3px 1px rgba(0, 0, 0, 0.15);\n",
              "      filter: drop-shadow(0px 1px 2px rgba(0, 0, 0, 0.3));\n",
              "      fill: #FFFFFF;\n",
              "    }\n",
              "  </style>\n",
              "\n",
              "      <script>\n",
              "        const buttonEl =\n",
              "          document.querySelector('#df-9a6747c3-8b60-4176-aa7c-964fdbb5bbe6 button.colab-df-convert');\n",
              "        buttonEl.style.display =\n",
              "          google.colab.kernel.accessAllowed ? 'block' : 'none';\n",
              "\n",
              "        async function convertToInteractive(key) {\n",
              "          const element = document.querySelector('#df-9a6747c3-8b60-4176-aa7c-964fdbb5bbe6');\n",
              "          const dataTable =\n",
              "            await google.colab.kernel.invokeFunction('convertToInteractive',\n",
              "                                                     [key], {});\n",
              "          if (!dataTable) return;\n",
              "\n",
              "          const docLinkHtml = 'Like what you see? Visit the ' +\n",
              "            '<a target=\"_blank\" href=https://colab.research.google.com/notebooks/data_table.ipynb>data table notebook</a>'\n",
              "            + ' to learn more about interactive tables.';\n",
              "          element.innerHTML = '';\n",
              "          dataTable['output_type'] = 'display_data';\n",
              "          await google.colab.output.renderOutput(dataTable, element);\n",
              "          const docLink = document.createElement('div');\n",
              "          docLink.innerHTML = docLinkHtml;\n",
              "          element.appendChild(docLink);\n",
              "        }\n",
              "      </script>\n",
              "    </div>\n",
              "  </div>\n",
              "  "
            ]
          },
          "metadata": {},
          "execution_count": 50
        }
      ],
      "source": [
        "pd.set_option('display.max_rows', None)\n",
        "# put all selection together\n",
        "feature_selection_df = pd.DataFrame({'Feature':feature_name, 'Pearson':cor_support, 'Chi-2':chi_support, 'RFE':rfe_support, 'Logistics':embedded_lr_support,\n",
        "                                    'Random Forest':embedded_rf_support, 'LightGBM':embedded_lgbm_support})\n",
        "# count the selected times for each feature\n",
        "feature_selection_df['Total'] = np.sum(feature_selection_df, axis=1)\n",
        "# display the top 100\n",
        "feature_selection_df = feature_selection_df.sort_values(['Total','Feature'] , ascending=False)\n",
        "feature_selection_df.index = range(1, len(feature_selection_df)+1)\n",
        "feature_selection_df.head(num_feats)"
      ]
    },
    {
      "cell_type": "markdown",
      "metadata": {
        "id": "8AHGrprt7wfe"
      },
      "source": [
        "## Can you build a Python script that takes dataset and a list of different feature selection methods that you want to try and output the best (maximum votes) features from all methods?"
      ]
    },
    {
      "cell_type": "code",
      "execution_count": 51,
      "metadata": {
        "id": "4fzMidjz7wfe"
      },
      "outputs": [],
      "source": [
        "def preprocess_dataset(dataset_path):\n",
        "    # Your code starts here (Multiple lines)\n",
        "    player_df = pd.read_csv(\"fifa19.csv\")\n",
        "    numcols = ['Overall', 'Crossing','Finishing',  'ShortPassing',  'Dribbling','LongPassing', 'BallControl', 'Acceleration','SprintSpeed', 'Agility',  'Stamina','Volleys','FKAccuracy','Reactions','Balance','ShotPower','Strength','LongShots','Aggression','Interceptions']\n",
        "    catcols = ['Preferred Foot','Position','Body Type','Nationality','Weak Foot']\n",
        "    player_df = player_df[numcols+catcols]\n",
        "    traindf = pd.concat([player_df[numcols], pd.get_dummies(player_df[catcols])],axis=1)\n",
        "    features = traindf.columns\n",
        "    traindf = traindf.dropna()\n",
        "    traindf = pd.DataFrame(traindf,columns=features)\n",
        "    y = traindf['Overall']>=87\n",
        "    X = traindf.copy()\n",
        "    del X['Overall']\n",
        "    num_feats=30\n",
        "    # Your code ends here\n",
        "    return X, y, num_feats"
      ]
    },
    {
      "cell_type": "code",
      "execution_count": 54,
      "metadata": {
        "id": "beXzcNAf7wfe"
      },
      "outputs": [],
      "source": [
        "def autoFeatureSelector(dataset_path, methods=[]):\n",
        "    # Parameters\n",
        "    # data - dataset to be analyzed (csv file)\n",
        "    # methods - various feature selection methods we outlined before, use them all here (list)\n",
        "    \n",
        "    # preprocessing\n",
        "    X, y, num_feats = preprocess_dataset(dataset_path)\n",
        "    \n",
        "    # Run every method we outlined above from the methods list and collect returned best features from every method\n",
        "    if 'pearson' in methods:\n",
        "        cor_support, cor_feature = cor_selector(X, y,num_feats)\n",
        "    if 'chi-square' in methods:\n",
        "        chi_support, chi_feature = chi_squared_selector(X, y,num_feats)\n",
        "    if 'rfe' in methods:\n",
        "        rfe_support, rfe_feature = rfe_selector(X, y,num_feats)\n",
        "    if 'log-reg' in methods:\n",
        "        embedded_lr_support, embedded_lr_feature = embedded_log_reg_selector(X, y, num_feats)\n",
        "    if 'rf' in methods:\n",
        "        embedded_rf_support, embedded_rf_feature = embedded_rf_selector(X, y, num_feats)\n",
        "    if 'lgbm' in methods:\n",
        "        embedded_lgbm_support, embedded_lgbm_feature = embedded_lgbm_selector(X, y, num_feats)\n",
        "    \n",
        "    \n",
        "    # Combine all the above feature list and count the maximum set of features that got selected by all methods\n",
        "    #### Your Code starts here (Multiple lines)\n",
        "    feature_selection_df = pd.DataFrame({'Feature':feature_name, 'Pearson':cor_support, 'Chi-2':chi_support, 'RFE':rfe_support, 'Logistics':embedded_lr_support,\n",
        "                                    'Random Forest':embedded_rf_support, 'LightGBM':embedded_lgbm_support})\n",
        "    # count the selected times for each feature\n",
        "    feature_selection_df['Total'] = np.sum(feature_selection_df, axis=1)\n",
        "    # display the top 100\n",
        "    feature_selection_df = feature_selection_df.sort_values(['Total','Feature'] , ascending=False)\n",
        "    feature_selection_df.index = range(1, len(feature_selection_df)+1)\n",
        "    best_features = feature_selection_df['Feature'].tolist()[:5]\n",
        "    #### Your Code ends here\n",
        "    return best_features"
      ]
    },
    {
      "cell_type": "code",
      "execution_count": 56,
      "metadata": {
        "colab": {
          "base_uri": "https://localhost:8080/",
          "height": 873
        },
        "id": "RhMdv_P-7wff",
        "outputId": "14826dc7-ac8c-4d72-fcdc-fcfe2f48f168"
      },
      "outputs": [
        {
          "output_type": "stream",
          "name": "stdout",
          "text": [
            "Fitting estimator with 223 features.\n",
            "Fitting estimator with 213 features.\n",
            "Fitting estimator with 203 features.\n",
            "Fitting estimator with 193 features.\n",
            "Fitting estimator with 183 features.\n",
            "Fitting estimator with 173 features.\n",
            "Fitting estimator with 163 features.\n",
            "Fitting estimator with 153 features.\n",
            "Fitting estimator with 143 features.\n",
            "Fitting estimator with 133 features.\n",
            "Fitting estimator with 123 features.\n",
            "Fitting estimator with 113 features.\n",
            "Fitting estimator with 103 features.\n",
            "Fitting estimator with 93 features.\n",
            "Fitting estimator with 83 features.\n",
            "Fitting estimator with 73 features.\n",
            "Fitting estimator with 63 features.\n",
            "Fitting estimator with 53 features.\n",
            "Fitting estimator with 43 features.\n",
            "Fitting estimator with 33 features.\n"
          ]
        },
        {
          "output_type": "stream",
          "name": "stderr",
          "text": [
            "/usr/local/lib/python3.7/dist-packages/sklearn/linear_model/_logistic.py:818: ConvergenceWarning: lbfgs failed to converge (status=1):\n",
            "STOP: TOTAL NO. of ITERATIONS REACHED LIMIT.\n",
            "\n",
            "Increase the number of iterations (max_iter) or scale the data as shown in:\n",
            "    https://scikit-learn.org/stable/modules/preprocessing.html\n",
            "Please also refer to the documentation for alternative solver options:\n",
            "    https://scikit-learn.org/stable/modules/linear_model.html#logistic-regression\n",
            "  extra_warning_msg=_LOGISTIC_SOLVER_CONVERGENCE_MSG,\n"
          ]
        },
        {
          "output_type": "error",
          "ename": "ValueError",
          "evalue": "ignored",
          "traceback": [
            "\u001b[0;31m---------------------------------------------------------------------------\u001b[0m",
            "\u001b[0;31mValueError\u001b[0m                                Traceback (most recent call last)",
            "\u001b[0;32m<ipython-input-56-90eff7697d7f>\u001b[0m in \u001b[0;36m<module>\u001b[0;34m\u001b[0m\n\u001b[0;32m----> 1\u001b[0;31m \u001b[0mbest_features\u001b[0m \u001b[0;34m=\u001b[0m \u001b[0mautoFeatureSelector\u001b[0m\u001b[0;34m(\u001b[0m\u001b[0mdataset_path\u001b[0m\u001b[0;34m=\u001b[0m\u001b[0;34m\"fifa19.csv\"\u001b[0m\u001b[0;34m,\u001b[0m \u001b[0mmethods\u001b[0m\u001b[0;34m=\u001b[0m\u001b[0;34m[\u001b[0m\u001b[0;34m'pearson'\u001b[0m\u001b[0;34m,\u001b[0m \u001b[0;34m'chi-square'\u001b[0m\u001b[0;34m,\u001b[0m \u001b[0;34m'rfe'\u001b[0m\u001b[0;34m,\u001b[0m \u001b[0;34m'log-reg'\u001b[0m\u001b[0;34m,\u001b[0m \u001b[0;34m'rf'\u001b[0m\u001b[0;34m,\u001b[0m \u001b[0;34m'lgbm'\u001b[0m\u001b[0;34m]\u001b[0m\u001b[0;34m)\u001b[0m\u001b[0;34m\u001b[0m\u001b[0;34m\u001b[0m\u001b[0m\n\u001b[0m\u001b[1;32m      2\u001b[0m \u001b[0mbest_features\u001b[0m\u001b[0;34m\u001b[0m\u001b[0;34m\u001b[0m\u001b[0m\n",
            "\u001b[0;32m<ipython-input-54-fea3f161eb55>\u001b[0m in \u001b[0;36mautoFeatureSelector\u001b[0;34m(dataset_path, methods)\u001b[0m\n\u001b[1;32m     25\u001b[0m     \u001b[0;31m#### Your Code starts here (Multiple lines)\u001b[0m\u001b[0;34m\u001b[0m\u001b[0;34m\u001b[0m\u001b[0;34m\u001b[0m\u001b[0m\n\u001b[1;32m     26\u001b[0m     feature_selection_df = pd.DataFrame({'Feature':feature_name, 'Pearson':cor_support, 'Chi-2':chi_support, 'RFE':rfe_support, 'Logistics':embedded_lr_support,\n\u001b[0;32m---> 27\u001b[0;31m                                     'Random Forest':embedded_rf_support, 'LightGBM':embedded_lgbm_support})\n\u001b[0m\u001b[1;32m     28\u001b[0m     \u001b[0;31m# count the selected times for each feature\u001b[0m\u001b[0;34m\u001b[0m\u001b[0;34m\u001b[0m\u001b[0;34m\u001b[0m\u001b[0m\n\u001b[1;32m     29\u001b[0m     \u001b[0mfeature_selection_df\u001b[0m\u001b[0;34m[\u001b[0m\u001b[0;34m'Total'\u001b[0m\u001b[0;34m]\u001b[0m \u001b[0;34m=\u001b[0m \u001b[0mnp\u001b[0m\u001b[0;34m.\u001b[0m\u001b[0msum\u001b[0m\u001b[0;34m(\u001b[0m\u001b[0mfeature_selection_df\u001b[0m\u001b[0;34m,\u001b[0m \u001b[0maxis\u001b[0m\u001b[0;34m=\u001b[0m\u001b[0;36m1\u001b[0m\u001b[0;34m)\u001b[0m\u001b[0;34m\u001b[0m\u001b[0;34m\u001b[0m\u001b[0m\n",
            "\u001b[0;32m/usr/local/lib/python3.7/dist-packages/pandas/core/frame.py\u001b[0m in \u001b[0;36m__init__\u001b[0;34m(self, data, index, columns, dtype, copy)\u001b[0m\n\u001b[1;32m    612\u001b[0m         \u001b[0;32melif\u001b[0m \u001b[0misinstance\u001b[0m\u001b[0;34m(\u001b[0m\u001b[0mdata\u001b[0m\u001b[0;34m,\u001b[0m \u001b[0mdict\u001b[0m\u001b[0;34m)\u001b[0m\u001b[0;34m:\u001b[0m\u001b[0;34m\u001b[0m\u001b[0;34m\u001b[0m\u001b[0m\n\u001b[1;32m    613\u001b[0m             \u001b[0;31m# GH#38939 de facto copy defaults to False only in non-dict cases\u001b[0m\u001b[0;34m\u001b[0m\u001b[0;34m\u001b[0m\u001b[0;34m\u001b[0m\u001b[0m\n\u001b[0;32m--> 614\u001b[0;31m             \u001b[0mmgr\u001b[0m \u001b[0;34m=\u001b[0m \u001b[0mdict_to_mgr\u001b[0m\u001b[0;34m(\u001b[0m\u001b[0mdata\u001b[0m\u001b[0;34m,\u001b[0m \u001b[0mindex\u001b[0m\u001b[0;34m,\u001b[0m \u001b[0mcolumns\u001b[0m\u001b[0;34m,\u001b[0m \u001b[0mdtype\u001b[0m\u001b[0;34m=\u001b[0m\u001b[0mdtype\u001b[0m\u001b[0;34m,\u001b[0m \u001b[0mcopy\u001b[0m\u001b[0;34m=\u001b[0m\u001b[0mcopy\u001b[0m\u001b[0;34m,\u001b[0m \u001b[0mtyp\u001b[0m\u001b[0;34m=\u001b[0m\u001b[0mmanager\u001b[0m\u001b[0;34m)\u001b[0m\u001b[0;34m\u001b[0m\u001b[0;34m\u001b[0m\u001b[0m\n\u001b[0m\u001b[1;32m    615\u001b[0m         \u001b[0;32melif\u001b[0m \u001b[0misinstance\u001b[0m\u001b[0;34m(\u001b[0m\u001b[0mdata\u001b[0m\u001b[0;34m,\u001b[0m \u001b[0mma\u001b[0m\u001b[0;34m.\u001b[0m\u001b[0mMaskedArray\u001b[0m\u001b[0;34m)\u001b[0m\u001b[0;34m:\u001b[0m\u001b[0;34m\u001b[0m\u001b[0;34m\u001b[0m\u001b[0m\n\u001b[1;32m    616\u001b[0m             \u001b[0;32mimport\u001b[0m \u001b[0mnumpy\u001b[0m\u001b[0;34m.\u001b[0m\u001b[0mma\u001b[0m\u001b[0;34m.\u001b[0m\u001b[0mmrecords\u001b[0m \u001b[0;32mas\u001b[0m \u001b[0mmrecords\u001b[0m\u001b[0;34m\u001b[0m\u001b[0;34m\u001b[0m\u001b[0m\n",
            "\u001b[0;32m/usr/local/lib/python3.7/dist-packages/pandas/core/internals/construction.py\u001b[0m in \u001b[0;36mdict_to_mgr\u001b[0;34m(data, index, columns, dtype, typ, copy)\u001b[0m\n\u001b[1;32m    463\u001b[0m \u001b[0;34m\u001b[0m\u001b[0m\n\u001b[1;32m    464\u001b[0m     return arrays_to_mgr(\n\u001b[0;32m--> 465\u001b[0;31m         \u001b[0marrays\u001b[0m\u001b[0;34m,\u001b[0m \u001b[0mdata_names\u001b[0m\u001b[0;34m,\u001b[0m \u001b[0mindex\u001b[0m\u001b[0;34m,\u001b[0m \u001b[0mcolumns\u001b[0m\u001b[0;34m,\u001b[0m \u001b[0mdtype\u001b[0m\u001b[0;34m=\u001b[0m\u001b[0mdtype\u001b[0m\u001b[0;34m,\u001b[0m \u001b[0mtyp\u001b[0m\u001b[0;34m=\u001b[0m\u001b[0mtyp\u001b[0m\u001b[0;34m,\u001b[0m \u001b[0mconsolidate\u001b[0m\u001b[0;34m=\u001b[0m\u001b[0mcopy\u001b[0m\u001b[0;34m\u001b[0m\u001b[0;34m\u001b[0m\u001b[0m\n\u001b[0m\u001b[1;32m    466\u001b[0m     )\n\u001b[1;32m    467\u001b[0m \u001b[0;34m\u001b[0m\u001b[0m\n",
            "\u001b[0;32m/usr/local/lib/python3.7/dist-packages/pandas/core/internals/construction.py\u001b[0m in \u001b[0;36marrays_to_mgr\u001b[0;34m(arrays, arr_names, index, columns, dtype, verify_integrity, typ, consolidate)\u001b[0m\n\u001b[1;32m    117\u001b[0m         \u001b[0;31m# figure out the index, if necessary\u001b[0m\u001b[0;34m\u001b[0m\u001b[0;34m\u001b[0m\u001b[0;34m\u001b[0m\u001b[0m\n\u001b[1;32m    118\u001b[0m         \u001b[0;32mif\u001b[0m \u001b[0mindex\u001b[0m \u001b[0;32mis\u001b[0m \u001b[0;32mNone\u001b[0m\u001b[0;34m:\u001b[0m\u001b[0;34m\u001b[0m\u001b[0;34m\u001b[0m\u001b[0m\n\u001b[0;32m--> 119\u001b[0;31m             \u001b[0mindex\u001b[0m \u001b[0;34m=\u001b[0m \u001b[0m_extract_index\u001b[0m\u001b[0;34m(\u001b[0m\u001b[0marrays\u001b[0m\u001b[0;34m)\u001b[0m\u001b[0;34m\u001b[0m\u001b[0;34m\u001b[0m\u001b[0m\n\u001b[0m\u001b[1;32m    120\u001b[0m         \u001b[0;32melse\u001b[0m\u001b[0;34m:\u001b[0m\u001b[0;34m\u001b[0m\u001b[0;34m\u001b[0m\u001b[0m\n\u001b[1;32m    121\u001b[0m             \u001b[0mindex\u001b[0m \u001b[0;34m=\u001b[0m \u001b[0mensure_index\u001b[0m\u001b[0;34m(\u001b[0m\u001b[0mindex\u001b[0m\u001b[0;34m)\u001b[0m\u001b[0;34m\u001b[0m\u001b[0;34m\u001b[0m\u001b[0m\n",
            "\u001b[0;32m/usr/local/lib/python3.7/dist-packages/pandas/core/internals/construction.py\u001b[0m in \u001b[0;36m_extract_index\u001b[0;34m(data)\u001b[0m\n\u001b[1;32m    633\u001b[0m             \u001b[0mlengths\u001b[0m \u001b[0;34m=\u001b[0m \u001b[0mlist\u001b[0m\u001b[0;34m(\u001b[0m\u001b[0mset\u001b[0m\u001b[0;34m(\u001b[0m\u001b[0mraw_lengths\u001b[0m\u001b[0;34m)\u001b[0m\u001b[0;34m)\u001b[0m\u001b[0;34m\u001b[0m\u001b[0;34m\u001b[0m\u001b[0m\n\u001b[1;32m    634\u001b[0m             \u001b[0;32mif\u001b[0m \u001b[0mlen\u001b[0m\u001b[0;34m(\u001b[0m\u001b[0mlengths\u001b[0m\u001b[0;34m)\u001b[0m \u001b[0;34m>\u001b[0m \u001b[0;36m1\u001b[0m\u001b[0;34m:\u001b[0m\u001b[0;34m\u001b[0m\u001b[0;34m\u001b[0m\u001b[0m\n\u001b[0;32m--> 635\u001b[0;31m                 \u001b[0;32mraise\u001b[0m \u001b[0mValueError\u001b[0m\u001b[0;34m(\u001b[0m\u001b[0;34m\"All arrays must be of the same length\"\u001b[0m\u001b[0;34m)\u001b[0m\u001b[0;34m\u001b[0m\u001b[0;34m\u001b[0m\u001b[0m\n\u001b[0m\u001b[1;32m    636\u001b[0m \u001b[0;34m\u001b[0m\u001b[0m\n\u001b[1;32m    637\u001b[0m             \u001b[0;32mif\u001b[0m \u001b[0mhave_dicts\u001b[0m\u001b[0;34m:\u001b[0m\u001b[0;34m\u001b[0m\u001b[0;34m\u001b[0m\u001b[0m\n",
            "\u001b[0;31mValueError\u001b[0m: All arrays must be of the same length"
          ]
        }
      ],
      "source": [
        "best_features = autoFeatureSelector(dataset_path=\"fifa19.csv\", methods=['pearson', 'chi-square', 'rfe', 'log-reg', 'rf', 'lgbm'])\n",
        "best_features"
      ]
    },
    {
      "cell_type": "markdown",
      "metadata": {
        "id": "O9Usl4i17wff"
      },
      "source": [
        "### Last, Can you turn this notebook into a python script, run it and submit the python (.py) file that takes dataset and list of methods as inputs and outputs the best features"
      ]
    },
    {
      "cell_type": "code",
      "execution_count": null,
      "metadata": {
        "id": "iAfJA9bU7wff"
      },
      "outputs": [],
      "source": []
    }
  ],
  "metadata": {
    "kernelspec": {
      "display_name": "Python 3.10.7 64-bit",
      "language": "python",
      "name": "python3"
    },
    "language_info": {
      "codemirror_mode": {
        "name": "ipython",
        "version": 3
      },
      "file_extension": ".py",
      "mimetype": "text/x-python",
      "name": "python",
      "nbconvert_exporter": "python",
      "pygments_lexer": "ipython3",
      "version": "3.10.7"
    },
    "vscode": {
      "interpreter": {
        "hash": "aee8b7b246df8f9039afb4144a1f6fd8d2ca17a180786b69acc140d282b71a49"
      }
    },
    "colab": {
      "provenance": []
    }
  },
  "nbformat": 4,
  "nbformat_minor": 0
}